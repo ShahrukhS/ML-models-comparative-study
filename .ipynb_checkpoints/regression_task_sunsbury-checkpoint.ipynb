{
 "cells": [
  {
   "cell_type": "markdown",
   "id": "857c5494-fbf6-422b-ace5-dcf97ee55e36",
   "metadata": {
    "id": "857c5494-fbf6-422b-ace5-dcf97ee55e36"
   },
   "source": [
    "## Part 3: Sainsburys Customer Analysis"
   ]
  },
  {
   "cell_type": "code",
   "execution_count": 22,
   "id": "4bd426d2-bed1-40ad-9172-93280dde7cfb",
   "metadata": {
    "id": "4bd426d2-bed1-40ad-9172-93280dde7cfb"
   },
   "outputs": [],
   "source": [
    "import pandas as pd\n",
    "import numpy as np\n",
    "\n",
    "from sklearn.preprocessing import LabelEncoder, StandardScaler\n",
    "\n",
    "from sklearn.pipeline import Pipeline\n",
    "from sklearn.dummy import DummyRegressor\n",
    "from sklearn.linear_model import LinearRegression\n",
    "from sklearn.linear_model import SGDRegressor\n",
    "from sklearn.linear_model import ElasticNet\n",
    "from sklearn.ensemble import GradientBoostingRegressor\n",
    "from sklearn.model_selection import train_test_split, GridSearchCV, cross_val_score\n",
    "\n",
    "from sklearn.metrics import mean_squared_error, r2_score\n",
    "import matplotlib.pyplot as plt"
   ]
  },
  {
   "cell_type": "code",
   "execution_count": 4,
   "id": "aa11c227-aee4-4cdd-8b98-01dbaf6f77fa",
   "metadata": {
    "id": "aa11c227-aee4-4cdd-8b98-01dbaf6f77fa"
   },
   "outputs": [],
   "source": [
    "data = pd.read_csv('Sainsburys_Data.csv')"
   ]
  },
  {
   "cell_type": "code",
   "execution_count": 5,
   "id": "f30910fd-ea3d-4927-8913-a69d6a9cdd4c",
   "metadata": {
    "colab": {
     "base_uri": "https://localhost:8080/",
     "height": 221
    },
    "id": "f30910fd-ea3d-4927-8913-a69d6a9cdd4c",
    "outputId": "5be6409d-fefb-487f-ef7e-1d36c581daed"
   },
   "outputs": [
    {
     "data": {
      "text/html": [
       "<div>\n",
       "<style scoped>\n",
       "    .dataframe tbody tr th:only-of-type {\n",
       "        vertical-align: middle;\n",
       "    }\n",
       "\n",
       "    .dataframe tbody tr th {\n",
       "        vertical-align: top;\n",
       "    }\n",
       "\n",
       "    .dataframe thead th {\n",
       "        text-align: right;\n",
       "    }\n",
       "</style>\n",
       "<table border=\"1\" class=\"dataframe\">\n",
       "  <thead>\n",
       "    <tr style=\"text-align: right;\">\n",
       "      <th></th>\n",
       "      <th>F1</th>\n",
       "      <th>F2</th>\n",
       "      <th>F3</th>\n",
       "      <th>F4</th>\n",
       "      <th>F5</th>\n",
       "      <th>F6</th>\n",
       "      <th>F7</th>\n",
       "      <th>F8</th>\n",
       "      <th>F9</th>\n",
       "      <th>F10</th>\n",
       "      <th>F11</th>\n",
       "      <th>F12</th>\n",
       "      <th>F13</th>\n",
       "      <th>F14</th>\n",
       "      <th>F15</th>\n",
       "      <th>F16</th>\n",
       "      <th>Target</th>\n",
       "    </tr>\n",
       "  </thead>\n",
       "  <tbody>\n",
       "    <tr>\n",
       "      <th>0</th>\n",
       "      <td>6.57</td>\n",
       "      <td>2</td>\n",
       "      <td>1.42</td>\n",
       "      <td>119.73</td>\n",
       "      <td>-3.34</td>\n",
       "      <td>Low</td>\n",
       "      <td>7.83</td>\n",
       "      <td>-4506.63</td>\n",
       "      <td>-16448.13</td>\n",
       "      <td>-214.64</td>\n",
       "      <td>6.96</td>\n",
       "      <td>-29.12</td>\n",
       "      <td>6</td>\n",
       "      <td>USA</td>\n",
       "      <td>3835.29</td>\n",
       "      <td>660.06</td>\n",
       "      <td>288.54</td>\n",
       "    </tr>\n",
       "    <tr>\n",
       "      <th>1</th>\n",
       "      <td>17.64</td>\n",
       "      <td>2</td>\n",
       "      <td>0.70</td>\n",
       "      <td>102.48</td>\n",
       "      <td>-9.77</td>\n",
       "      <td>High</td>\n",
       "      <td>2.43</td>\n",
       "      <td>-3326.25</td>\n",
       "      <td>-15865.93</td>\n",
       "      <td>-199.36</td>\n",
       "      <td>9.20</td>\n",
       "      <td>-30.42</td>\n",
       "      <td>4</td>\n",
       "      <td>UK</td>\n",
       "      <td>4130.94</td>\n",
       "      <td>683.22</td>\n",
       "      <td>1075.23</td>\n",
       "    </tr>\n",
       "    <tr>\n",
       "      <th>2</th>\n",
       "      <td>6.06</td>\n",
       "      <td>1</td>\n",
       "      <td>14.72</td>\n",
       "      <td>249.60</td>\n",
       "      <td>-2.26</td>\n",
       "      <td>Very high</td>\n",
       "      <td>4.29</td>\n",
       "      <td>-2206.02</td>\n",
       "      <td>-11705.56</td>\n",
       "      <td>-149.86</td>\n",
       "      <td>12.97</td>\n",
       "      <td>-21.58</td>\n",
       "      <td>16</td>\n",
       "      <td>USA</td>\n",
       "      <td>5305.89</td>\n",
       "      <td>769.83</td>\n",
       "      <td>1722.09</td>\n",
       "    </tr>\n",
       "    <tr>\n",
       "      <th>3</th>\n",
       "      <td>2.07</td>\n",
       "      <td>3</td>\n",
       "      <td>0.00</td>\n",
       "      <td>149.85</td>\n",
       "      <td>-0.99</td>\n",
       "      <td>High</td>\n",
       "      <td>3.50</td>\n",
       "      <td>-2798.73</td>\n",
       "      <td>-13815.70</td>\n",
       "      <td>-219.50</td>\n",
       "      <td>5.78</td>\n",
       "      <td>-38.10</td>\n",
       "      <td>10</td>\n",
       "      <td>Europe</td>\n",
       "      <td>2149.47</td>\n",
       "      <td>720.63</td>\n",
       "      <td>3376.78</td>\n",
       "    </tr>\n",
       "    <tr>\n",
       "      <th>4</th>\n",
       "      <td>18.99</td>\n",
       "      <td>5</td>\n",
       "      <td>1.92</td>\n",
       "      <td>26.67</td>\n",
       "      <td>-5.62</td>\n",
       "      <td>Low</td>\n",
       "      <td>3.10</td>\n",
       "      <td>-4357.92</td>\n",
       "      <td>-18105.59</td>\n",
       "      <td>-208.86</td>\n",
       "      <td>7.38</td>\n",
       "      <td>-7.06</td>\n",
       "      <td>6</td>\n",
       "      <td>Europe</td>\n",
       "      <td>5115.03</td>\n",
       "      <td>789.96</td>\n",
       "      <td>0.00</td>\n",
       "    </tr>\n",
       "  </tbody>\n",
       "</table>\n",
       "</div>"
      ],
      "text/plain": [
       "      F1  F2     F3      F4    F5  ... F13     F14      F15     F16   Target\n",
       "0   6.57   2   1.42  119.73 -3.34  ...   6     USA  3835.29  660.06   288.54\n",
       "1  17.64   2   0.70  102.48 -9.77  ...   4      UK  4130.94  683.22  1075.23\n",
       "2   6.06   1  14.72  249.60 -2.26  ...  16     USA  5305.89  769.83  1722.09\n",
       "3   2.07   3   0.00  149.85 -0.99  ...  10  Europe  2149.47  720.63  3376.78\n",
       "4  18.99   5   1.92   26.67 -5.62  ...   6  Europe  5115.03  789.96     0.00\n",
       "\n",
       "[5 rows x 17 columns]"
      ]
     },
     "execution_count": 5,
     "metadata": {
      "tags": []
     },
     "output_type": "execute_result"
    }
   ],
   "source": [
    "data.head()"
   ]
  },
  {
   "cell_type": "code",
   "execution_count": 6,
   "id": "92c2b215-1956-457b-9c3f-9104a8d92103",
   "metadata": {
    "colab": {
     "base_uri": "https://localhost:8080/"
    },
    "id": "92c2b215-1956-457b-9c3f-9104a8d92103",
    "outputId": "d964d557-149b-4037-bc0c-3504616d6b8d"
   },
   "outputs": [
    {
     "name": "stdout",
     "output_type": "stream",
     "text": [
      "<class 'pandas.core.frame.DataFrame'>\n",
      "RangeIndex: 1500 entries, 0 to 1499\n",
      "Data columns (total 17 columns):\n",
      " #   Column  Non-Null Count  Dtype  \n",
      "---  ------  --------------  -----  \n",
      " 0   F1      1500 non-null   float64\n",
      " 1   F2      1500 non-null   int64  \n",
      " 2   F3      1500 non-null   float64\n",
      " 3   F4      1500 non-null   float64\n",
      " 4   F5      1500 non-null   float64\n",
      " 5   F6      1500 non-null   object \n",
      " 6   F7      1500 non-null   float64\n",
      " 7   F8      1500 non-null   float64\n",
      " 8   F9      1500 non-null   float64\n",
      " 9   F10     1500 non-null   float64\n",
      " 10  F11     1500 non-null   float64\n",
      " 11  F12     1500 non-null   float64\n",
      " 12  F13     1500 non-null   int64  \n",
      " 13  F14     1500 non-null   object \n",
      " 14  F15     1500 non-null   float64\n",
      " 15  F16     1500 non-null   float64\n",
      " 16  Target  1500 non-null   float64\n",
      "dtypes: float64(13), int64(2), object(2)\n",
      "memory usage: 199.3+ KB\n"
     ]
    }
   ],
   "source": [
    "data.info()"
   ]
  },
  {
   "cell_type": "markdown",
   "id": "e5010a22-fa80-4c8a-a592-8a1ba966c28c",
   "metadata": {
    "id": "e5010a22-fa80-4c8a-a592-8a1ba966c28c"
   },
   "source": [
    "### Data Preprocessing"
   ]
  },
  {
   "cell_type": "markdown",
   "id": "6ff10c0f-cade-4d76-917a-8c747221c782",
   "metadata": {
    "id": "6ff10c0f-cade-4d76-917a-8c747221c782"
   },
   "source": [
    "Ordinal variable encoding to numeric format"
   ]
  },
  {
   "cell_type": "code",
   "execution_count": 7,
   "id": "9d6322f1-e4fd-4f06-be53-149edfd0f653",
   "metadata": {
    "colab": {
     "base_uri": "https://localhost:8080/"
    },
    "id": "9d6322f1-e4fd-4f06-be53-149edfd0f653",
    "outputId": "1c0ede07-86c9-4d52-8c3a-fbb3393866a0"
   },
   "outputs": [
    {
     "name": "stdout",
     "output_type": "stream",
     "text": [
      "<class 'pandas.core.frame.DataFrame'>\n",
      "RangeIndex: 1500 entries, 0 to 1499\n",
      "Data columns (total 20 columns):\n",
      " #   Column      Non-Null Count  Dtype  \n",
      "---  ------      --------------  -----  \n",
      " 0   F1          1500 non-null   float64\n",
      " 1   F2          1500 non-null   int64  \n",
      " 2   F3          1500 non-null   float64\n",
      " 3   F4          1500 non-null   float64\n",
      " 4   F5          1500 non-null   float64\n",
      " 5   F6          1500 non-null   int64  \n",
      " 6   F7          1500 non-null   float64\n",
      " 7   F8          1500 non-null   float64\n",
      " 8   F9          1500 non-null   float64\n",
      " 9   F10         1500 non-null   float64\n",
      " 10  F11         1500 non-null   float64\n",
      " 11  F12         1500 non-null   float64\n",
      " 12  F13         1500 non-null   int64  \n",
      " 13  F15         1500 non-null   float64\n",
      " 14  F16         1500 non-null   float64\n",
      " 15  Target      1500 non-null   float64\n",
      " 16  F14_Europe  1500 non-null   uint8  \n",
      " 17  F14_Rest    1500 non-null   uint8  \n",
      " 18  F14_UK      1500 non-null   uint8  \n",
      " 19  F14_USA     1500 non-null   uint8  \n",
      "dtypes: float64(13), int64(3), uint8(4)\n",
      "memory usage: 193.5 KB\n"
     ]
    }
   ],
   "source": [
    "le = LabelEncoder()\n",
    "data['F6'] = le.fit_transform(data['F6'])\n",
    "data = pd.get_dummies(data)\n",
    "data.info()"
   ]
  },
  {
   "cell_type": "markdown",
   "id": "66895c81-d4d6-4c02-bc3d-95aea1cbecda",
   "metadata": {
    "id": "66895c81-d4d6-4c02-bc3d-95aea1cbecda"
   },
   "source": [
    "Checking for null values"
   ]
  },
  {
   "cell_type": "code",
   "execution_count": 8,
   "id": "e983a282-cc6b-4a9d-80e9-34457a5bbd4d",
   "metadata": {
    "colab": {
     "base_uri": "https://localhost:8080/"
    },
    "id": "e983a282-cc6b-4a9d-80e9-34457a5bbd4d",
    "outputId": "b4bd52b7-d745-454f-c918-a027702ea498"
   },
   "outputs": [
    {
     "data": {
      "text/plain": [
       "F1            0.0\n",
       "F2            0.0\n",
       "F3            0.0\n",
       "F4            0.0\n",
       "F5            0.0\n",
       "F6            0.0\n",
       "F7            0.0\n",
       "F8            0.0\n",
       "F9            0.0\n",
       "F10           0.0\n",
       "F11           0.0\n",
       "F12           0.0\n",
       "F13           0.0\n",
       "F15           0.0\n",
       "F16           0.0\n",
       "Target        0.0\n",
       "F14_Europe    0.0\n",
       "F14_Rest      0.0\n",
       "F14_UK        0.0\n",
       "F14_USA       0.0\n",
       "dtype: float64"
      ]
     },
     "execution_count": 8,
     "metadata": {
      "tags": []
     },
     "output_type": "execute_result"
    }
   ],
   "source": [
    "data.isnull().mean()*100"
   ]
  },
  {
   "cell_type": "markdown",
   "id": "ae9f9f68-a97a-4943-bfa2-8736bd9958fa",
   "metadata": {
    "id": "ae9f9f68-a97a-4943-bfa2-8736bd9958fa"
   },
   "source": [
    "Outliers Analysis"
   ]
  },
  {
   "cell_type": "code",
   "execution_count": 9,
   "id": "798a71c2-fefb-48b5-ac8d-accb083df67a",
   "metadata": {
    "colab": {
     "base_uri": "https://localhost:8080/"
    },
    "id": "798a71c2-fefb-48b5-ac8d-accb083df67a",
    "outputId": "b7a85d5d-5d82-4d4f-e28c-3e040bf45bb4"
   },
   "outputs": [
    {
     "name": "stdout",
     "output_type": "stream",
     "text": [
      "(37, 20)\n",
      "1463 outliers removed from 1500 with constant 0.5\n",
      "(441, 20)\n",
      "1059 outliers removed from 1500 with constant 1.5\n",
      "(564, 20)\n",
      "936 outliers removed from 1500 with constant 2.0\n"
     ]
    }
   ],
   "source": [
    "Q1 = data.quantile(0.25)\n",
    "Q3 = data.quantile(0.75)\n",
    "IQR = Q3 - Q1\n",
    "outlier_constant = [0.5, 1.5, 2.0]\n",
    "for cons in outlier_constant:\n",
    "    data_out = data[~((data < (Q1 - cons * IQR)) |(data > (Q3 + cons * IQR))).any(axis=1)]\n",
    "    print(data_out.shape)\n",
    "    print(f'{data.shape[0] - data_out.shape[0]} outliers removed from {data.shape[0]} with constant {cons}')"
   ]
  },
  {
   "cell_type": "markdown",
   "id": "568b71a1-0cdf-469d-8492-daee74355632",
   "metadata": {
    "id": "568b71a1-0cdf-469d-8492-daee74355632"
   },
   "source": [
    "#### Evaluating Different ML Techniques and Models"
   ]
  },
  {
   "cell_type": "code",
   "execution_count": 10,
   "id": "ef9de69f-edbc-4c5e-8641-0422ee63636e",
   "metadata": {
    "colab": {
     "base_uri": "https://localhost:8080/"
    },
    "id": "ef9de69f-edbc-4c5e-8641-0422ee63636e",
    "outputId": "9c2ab1a5-9380-4155-8c41-7b8bc7c5e2d2"
   },
   "outputs": [
    {
     "name": "stdout",
     "output_type": "stream",
     "text": [
      "(1500, 19)\n",
      "(1500,)\n"
     ]
    }
   ],
   "source": [
    "X = data.iloc[:,data.columns != 'Target']\n",
    "y = data.Target.values.ravel()\n",
    "\n",
    "print(X.shape)\n",
    "print(y.shape)"
   ]
  },
  {
   "cell_type": "code",
   "execution_count": 11,
   "id": "9ba40d34-8a48-4f61-ac15-0d17cb555e78",
   "metadata": {
    "colab": {
     "base_uri": "https://localhost:8080/"
    },
    "id": "9ba40d34-8a48-4f61-ac15-0d17cb555e78",
    "outputId": "cb62ba48-822a-477c-f642-000c45a21d20"
   },
   "outputs": [
    {
     "data": {
      "text/plain": [
       "Index(['F1', 'F2', 'F3', 'F4', 'F5', 'F6', 'F7', 'F8', 'F9', 'F10', 'F11',\n",
       "       'F12', 'F13', 'F15', 'F16', 'F14_Europe', 'F14_Rest', 'F14_UK',\n",
       "       'F14_USA'],\n",
       "      dtype='object')"
      ]
     },
     "execution_count": 11,
     "metadata": {
      "tags": []
     },
     "output_type": "execute_result"
    }
   ],
   "source": [
    "X.columns"
   ]
  },
  {
   "cell_type": "code",
   "execution_count": 12,
   "id": "cff35504-e728-4cc6-ab0f-ae35fbf2cb3c",
   "metadata": {
    "colab": {
     "base_uri": "https://localhost:8080/"
    },
    "id": "cff35504-e728-4cc6-ab0f-ae35fbf2cb3c",
    "outputId": "387281a9-ef60-4768-9de9-b5aa24b5b29b"
   },
   "outputs": [
    {
     "data": {
      "text/plain": [
       "(1500, 19)"
      ]
     },
     "execution_count": 12,
     "metadata": {
      "tags": []
     },
     "output_type": "execute_result"
    }
   ],
   "source": [
    "X.shape"
   ]
  },
  {
   "cell_type": "code",
   "execution_count": 13,
   "id": "f9331a72-c223-4488-86b7-47c4895eeb2a",
   "metadata": {
    "id": "f9331a72-c223-4488-86b7-47c4895eeb2a"
   },
   "outputs": [],
   "source": [
    "X_train, X_val, y_train, y_val = train_test_split(X, y, random_state=0)"
   ]
  },
  {
   "cell_type": "code",
   "execution_count": 37,
   "id": "4a2f3587-7f51-4a09-8150-3dfd968211ce",
   "metadata": {
    "id": "4a2f3587-7f51-4a09-8150-3dfd968211ce"
   },
   "outputs": [],
   "source": [
    "def evaluation_score(truevalues, predictions):\n",
    "    nmse = mean_squared_error(truevalues, predictions) * -1\n",
    "    return nmse"
   ]
  },
  {
   "cell_type": "markdown",
   "id": "xZrJljlN6phk",
   "metadata": {
    "id": "xZrJljlN6phk"
   },
   "source": [
    "#### Evaluating Baseline Scores"
   ]
  },
  {
   "cell_type": "code",
   "execution_count": 38,
   "id": "903aacb0-a955-46ab-946d-4ba508a7cd38",
   "metadata": {
    "id": "903aacb0-a955-46ab-946d-4ba508a7cd38"
   },
   "outputs": [],
   "source": [
    "results = []\n",
    "\n",
    "# Evaluating DummyRegressor\n",
    "dummy = DummyRegressor()\n",
    "dummy.fit(X_train, y_train)\n",
    "y_pred = dummy.predict(X_val)\n",
    "results.append(evaluation_score(y_val, y_pred))\n",
    "\n",
    "# Evaluating basic Linear Regression with no parameter tuning\n",
    "pipe = Pipeline(steps=[('scaler', StandardScaler()),\n",
    "                      ('regressor', LinearRegression())])\n",
    "results.append(cross_val_score(pipe, X, y, scoring='neg_mean_squared_error').mean())"
   ]
  },
  {
   "cell_type": "code",
   "execution_count": 39,
   "id": "7ab1ffbb-bcca-4098-935e-f160e5931045",
   "metadata": {
    "colab": {
     "base_uri": "https://localhost:8080/",
     "height": 295
    },
    "id": "7ab1ffbb-bcca-4098-935e-f160e5931045",
    "outputId": "edaf8eaf-78d3-48b2-968d-1682cc15c69b"
   },
   "outputs": [
    {
     "data": {
      "image/png": "[encoded data removed]",
      "text/plain": [
       "<Figure size 432x288 with 1 Axes>"
      ]
     },
     "metadata": {
      "needs_background": "light",
      "tags": []
     },
     "output_type": "display_data"
    }
   ],
   "source": [
    "plt.title('Baselines Scores')\n",
    "x_axis = ['Dummy', 'LR with CV']\n",
    "plt.bar(x_axis, results)\n",
    "plt.xticks(x_axis)\n",
    "plt.xlabel('Regressors')\n",
    "plt.ylabel('Scores')\n",
    "plt.show()"
   ]
  },
  {
   "cell_type": "markdown",
   "id": "58c70a46-64b0-4950-9412-cb7cf5bbf4c7",
   "metadata": {
    "id": "58c70a46-64b0-4950-9412-cb7cf5bbf4c7"
   },
   "source": [
    "#### Deriving a good model with comparative analysis"
   ]
  },
  {
   "cell_type": "code",
   "execution_count": 24,
   "id": "9094e96d-ed29-480e-892a-0c074c28e0ec",
   "metadata": {
    "id": "9094e96d-ed29-480e-892a-0c074c28e0ec"
   },
   "outputs": [],
   "source": [
    "models = []\n",
    "results = []\n",
    "names = []\n",
    "fitted_models = []\n",
    "\n",
    "models.append(('LR', LinearRegression(),\n",
    "               {'fit_intercept':[True,False], 'normalize':[True,False]}))\n",
    "\n",
    "models.append(('EN', ElasticNet(),\n",
    "               {'alpha':np.logspace(-5,2,8), 'l1_ratio':[.2,.4,.6,.8]}))\n",
    "\n",
    "models.append(('GBR', GradientBoostingRegressor(),\n",
    "               {'n_estimators': [100, 200, 300], 'learning_rate': [0.001, 0.01, 0.1]}))\n",
    "\n",
    "models.append(('SGD', SGDRegressor(),\n",
    "               {'loss': ['squared_loss', 'squared_epsilon_insensitive'], 'alpha': [0.001, 0.01, 0.1]}))"
   ]
  },
  {
   "cell_type": "code",
   "execution_count": 25,
   "id": "3cc546b8-9918-4cc4-8e5a-bda9c9f450ab",
   "metadata": {
    "colab": {
     "base_uri": "https://localhost:8080/",
     "height": 362
    },
    "id": "3cc546b8-9918-4cc4-8e5a-bda9c9f450ab",
    "outputId": "97a559a4-1d9d-421b-c65b-dbe52c008399"
   },
   "outputs": [
    {
     "name": "stdout",
     "output_type": "stream",
     "text": [
      "LR: -305033.459494 (22823.338496)\n",
      "EN: -305418.220829 (21434.017219)\n",
      "GBR: -215497.891032 (23426.008682)\n",
      "SGD: -307727.805281 (21379.434941)\n"
     ]
    },
    {
     "data": {
      "image/png": "[encoded data removed]",
      "text/plain": [
       "<Figure size 432x288 with 1 Axes>"
      ]
     },
     "metadata": {
      "needs_background": "light",
      "tags": []
     },
     "output_type": "display_data"
    }
   ],
   "source": [
    "for name, model, regressor_params in models:\n",
    "    #creating a pipeline for transformation and data fitting.\n",
    "    pipe = Pipeline(steps=[('scaler', StandardScaler()),\n",
    "                       ('regressor', model)])\n",
    "    \n",
    "    #preparing parameters for parameter tuning in GridSearchCV\n",
    "    pipe_params = {'scaler__with_std' : [True, False]}\n",
    "    for param in regressor_params.items():\n",
    "        pipe_params[f'regressor__{param[0]}'] = param[1]\n",
    "    \n",
    "    grid = GridSearchCV(pipe, param_grid=pipe_params, n_jobs=-1)\n",
    "    grid.fit(X, y)\n",
    "    \n",
    "    #Recording results and evaluating a model with best parameters found\n",
    "    scores = cross_val_score(grid.best_estimator_, X, y, scoring='neg_mean_squared_error')\n",
    "    results.append(scores)\n",
    "    names.append(name)\n",
    "    fitted_models.append(grid.best_estimator_)\n",
    "    msg = \"%s: %f (%f)\" % (name, scores.mean(), scores.std())\n",
    "    print(msg)\n",
    "    \n",
    "# boxplot algorithm comparison\n",
    "fig = plt.figure()\n",
    "fig.suptitle('Algorithm Comparison')\n",
    "ax = fig.add_subplot(111)\n",
    "plt.boxplot(results)\n",
    "ax.set_xticklabels(names)\n",
    "plt.show()"
   ]
  },
  {
   "cell_type": "markdown",
   "id": "733291a8-e9e9-49fe-94ad-ce94d090f248",
   "metadata": {
    "id": "733291a8-e9e9-49fe-94ad-ce94d090f248"
   },
   "source": [
    "#### Part b: Deploying the Best Performing Pipeline on Testset"
   ]
  },
  {
   "cell_type": "code",
   "execution_count": 26,
   "id": "7b3c2d81-26c2-4d27-9cd8-84b0a5d03cc3",
   "metadata": {
    "id": "7b3c2d81-26c2-4d27-9cd8-84b0a5d03cc3"
   },
   "outputs": [],
   "source": [
    "testset = pd.read_csv('Sainsburys_Test.csv')"
   ]
  },
  {
   "cell_type": "code",
   "execution_count": 27,
   "id": "a7a25828-6e16-4d70-b809-54884bb181ef",
   "metadata": {
    "colab": {
     "base_uri": "https://localhost:8080/",
     "height": 221
    },
    "id": "a7a25828-6e16-4d70-b809-54884bb181ef",
    "outputId": "9e143827-07fd-4715-d327-7a3800fbff5e"
   },
   "outputs": [
    {
     "data": {
      "text/html": [
       "<div>\n",
       "<style scoped>\n",
       "    .dataframe tbody tr th:only-of-type {\n",
       "        vertical-align: middle;\n",
       "    }\n",
       "\n",
       "    .dataframe tbody tr th {\n",
       "        vertical-align: top;\n",
       "    }\n",
       "\n",
       "    .dataframe thead th {\n",
       "        text-align: right;\n",
       "    }\n",
       "</style>\n",
       "<table border=\"1\" class=\"dataframe\">\n",
       "  <thead>\n",
       "    <tr style=\"text-align: right;\">\n",
       "      <th></th>\n",
       "      <th>F1</th>\n",
       "      <th>F2</th>\n",
       "      <th>F3</th>\n",
       "      <th>F4</th>\n",
       "      <th>F5</th>\n",
       "      <th>F6</th>\n",
       "      <th>F7</th>\n",
       "      <th>F8</th>\n",
       "      <th>F9</th>\n",
       "      <th>F10</th>\n",
       "      <th>F11</th>\n",
       "      <th>F12</th>\n",
       "      <th>F13</th>\n",
       "      <th>F14</th>\n",
       "      <th>F15</th>\n",
       "      <th>F16</th>\n",
       "      <th>Target</th>\n",
       "    </tr>\n",
       "  </thead>\n",
       "  <tbody>\n",
       "    <tr>\n",
       "      <th>0</th>\n",
       "      <td>19.62</td>\n",
       "      <td>4</td>\n",
       "      <td>64.06</td>\n",
       "      <td>43.65</td>\n",
       "      <td>-3.45</td>\n",
       "      <td>Very high</td>\n",
       "      <td>6.51</td>\n",
       "      <td>-3379.32</td>\n",
       "      <td>-10702.17</td>\n",
       "      <td>-252.84</td>\n",
       "      <td>6.16</td>\n",
       "      <td>-28.80</td>\n",
       "      <td>10</td>\n",
       "      <td>Rest</td>\n",
       "      <td>2833.83</td>\n",
       "      <td>630.81</td>\n",
       "      <td>NaN</td>\n",
       "    </tr>\n",
       "    <tr>\n",
       "      <th>1</th>\n",
       "      <td>8.91</td>\n",
       "      <td>3</td>\n",
       "      <td>0.00</td>\n",
       "      <td>-29.13</td>\n",
       "      <td>-5.45</td>\n",
       "      <td>Low</td>\n",
       "      <td>2.72</td>\n",
       "      <td>-4726.20</td>\n",
       "      <td>-18639.21</td>\n",
       "      <td>-182.04</td>\n",
       "      <td>4.12</td>\n",
       "      <td>-37.92</td>\n",
       "      <td>6</td>\n",
       "      <td>Europe</td>\n",
       "      <td>5011.47</td>\n",
       "      <td>623.01</td>\n",
       "      <td>NaN</td>\n",
       "    </tr>\n",
       "    <tr>\n",
       "      <th>2</th>\n",
       "      <td>8.55</td>\n",
       "      <td>2</td>\n",
       "      <td>0.94</td>\n",
       "      <td>175.35</td>\n",
       "      <td>-4.77</td>\n",
       "      <td>High</td>\n",
       "      <td>1.91</td>\n",
       "      <td>-2800.83</td>\n",
       "      <td>-20690.94</td>\n",
       "      <td>-262.80</td>\n",
       "      <td>3.76</td>\n",
       "      <td>-26.42</td>\n",
       "      <td>6</td>\n",
       "      <td>UK</td>\n",
       "      <td>3835.32</td>\n",
       "      <td>684.15</td>\n",
       "      <td>NaN</td>\n",
       "    </tr>\n",
       "    <tr>\n",
       "      <th>3</th>\n",
       "      <td>26.73</td>\n",
       "      <td>3</td>\n",
       "      <td>1.86</td>\n",
       "      <td>163.71</td>\n",
       "      <td>-6.74</td>\n",
       "      <td>Low</td>\n",
       "      <td>3.20</td>\n",
       "      <td>-4202.19</td>\n",
       "      <td>-14001.97</td>\n",
       "      <td>-258.80</td>\n",
       "      <td>4.53</td>\n",
       "      <td>-24.74</td>\n",
       "      <td>10</td>\n",
       "      <td>UK</td>\n",
       "      <td>2372.91</td>\n",
       "      <td>777.60</td>\n",
       "      <td>NaN</td>\n",
       "    </tr>\n",
       "    <tr>\n",
       "      <th>4</th>\n",
       "      <td>5.52</td>\n",
       "      <td>5</td>\n",
       "      <td>6.74</td>\n",
       "      <td>298.77</td>\n",
       "      <td>-8.34</td>\n",
       "      <td>Low</td>\n",
       "      <td>2.77</td>\n",
       "      <td>-3333.69</td>\n",
       "      <td>-14949.07</td>\n",
       "      <td>-275.84</td>\n",
       "      <td>6.24</td>\n",
       "      <td>-31.00</td>\n",
       "      <td>2</td>\n",
       "      <td>Rest</td>\n",
       "      <td>5324.61</td>\n",
       "      <td>724.44</td>\n",
       "      <td>NaN</td>\n",
       "    </tr>\n",
       "  </tbody>\n",
       "</table>\n",
       "</div>"
      ],
      "text/plain": [
       "      F1  F2     F3      F4    F5  ... F13     F14      F15     F16  Target\n",
       "0  19.62   4  64.06   43.65 -3.45  ...  10    Rest  2833.83  630.81     NaN\n",
       "1   8.91   3   0.00  -29.13 -5.45  ...   6  Europe  5011.47  623.01     NaN\n",
       "2   8.55   2   0.94  175.35 -4.77  ...   6      UK  3835.32  684.15     NaN\n",
       "3  26.73   3   1.86  163.71 -6.74  ...  10      UK  2372.91  777.60     NaN\n",
       "4   5.52   5   6.74  298.77 -8.34  ...   2    Rest  5324.61  724.44     NaN\n",
       "\n",
       "[5 rows x 17 columns]"
      ]
     },
     "execution_count": 27,
     "metadata": {
      "tags": []
     },
     "output_type": "execute_result"
    }
   ],
   "source": [
    "testset.head()"
   ]
  },
  {
   "cell_type": "code",
   "execution_count": 28,
   "id": "CCIxOsjh4c2l",
   "metadata": {
    "colab": {
     "base_uri": "https://localhost:8080/"
    },
    "id": "CCIxOsjh4c2l",
    "outputId": "c4bbe4f6-cb8e-452d-bd57-f5e423923521"
   },
   "outputs": [
    {
     "name": "stdout",
     "output_type": "stream",
     "text": [
      "<class 'pandas.core.frame.DataFrame'>\n",
      "RangeIndex: 1500 entries, 0 to 1499\n",
      "Data columns (total 20 columns):\n",
      " #   Column      Non-Null Count  Dtype  \n",
      "---  ------      --------------  -----  \n",
      " 0   F1          1500 non-null   float64\n",
      " 1   F2          1500 non-null   int64  \n",
      " 2   F3          1500 non-null   float64\n",
      " 3   F4          1500 non-null   float64\n",
      " 4   F5          1500 non-null   float64\n",
      " 5   F6          1500 non-null   int64  \n",
      " 6   F7          1500 non-null   float64\n",
      " 7   F8          1500 non-null   float64\n",
      " 8   F9          1500 non-null   float64\n",
      " 9   F10         1500 non-null   float64\n",
      " 10  F11         1500 non-null   float64\n",
      " 11  F12         1500 non-null   float64\n",
      " 12  F13         1500 non-null   int64  \n",
      " 13  F15         1500 non-null   float64\n",
      " 14  F16         1500 non-null   float64\n",
      " 15  Target      0 non-null      float64\n",
      " 16  F14_Europe  1500 non-null   uint8  \n",
      " 17  F14_Rest    1500 non-null   uint8  \n",
      " 18  F14_UK      1500 non-null   uint8  \n",
      " 19  F14_USA     1500 non-null   uint8  \n",
      "dtypes: float64(13), int64(3), uint8(4)\n",
      "memory usage: 193.5 KB\n"
     ]
    }
   ],
   "source": [
    "le = LabelEncoder()\n",
    "testset['F6'] = le.fit_transform(testset['F6'])\n",
    "testset = pd.get_dummies(testset)\n",
    "testset.info()"
   ]
  },
  {
   "cell_type": "code",
   "execution_count": 31,
   "id": "tfGnwZqa5FzR",
   "metadata": {
    "colab": {
     "base_uri": "https://localhost:8080/"
    },
    "id": "tfGnwZqa5FzR",
    "outputId": "e280cd5b-ccba-4126-f29d-ea7d7dbb3663"
   },
   "outputs": [
    {
     "name": "stdout",
     "output_type": "stream",
     "text": [
      "Applying our best performing model: GBR\n"
     ]
    }
   ],
   "source": [
    "print('Applying our best performing model:', names[2])"
   ]
  },
  {
   "cell_type": "code",
   "execution_count": 32,
   "id": "80e4f4b8-ef45-46b7-936e-4a27dd1eb55e",
   "metadata": {
    "id": "80e4f4b8-ef45-46b7-936e-4a27dd1eb55e"
   },
   "outputs": [],
   "source": [
    "X_test = testset.iloc[:,testset.columns != 'Target']\n",
    "testset['Target'] = fitted_models[2].predict(X_test)"
   ]
  },
  {
   "cell_type": "code",
   "execution_count": 33,
   "id": "coN5-Uhw5Pus",
   "metadata": {
    "id": "coN5-Uhw5Pus"
   },
   "outputs": [],
   "source": [
    "testset.to_csv('CE802_P3_Test_Final.csv')"
   ]
  }
 ],
 "metadata": {
  "colab": {
   "collapsed_sections": [],
   "name": "CE802_P3_Notebook.ipynb",
   "provenance": []
  },
  "kernelspec": {
   "display_name": "Python 3",
   "language": "python",
   "name": "python3"
  },
  "language_info": {
   "codemirror_mode": {
    "name": "ipython",
    "version": 3
   },
   "file_extension": ".py",
   "mimetype": "text/x-python",
   "name": "python",
   "nbconvert_exporter": "python",
   "pygments_lexer": "ipython3",
   "version": "3.8.8"
  }
 },
 "nbformat": 4,
 "nbformat_minor": 5
}
