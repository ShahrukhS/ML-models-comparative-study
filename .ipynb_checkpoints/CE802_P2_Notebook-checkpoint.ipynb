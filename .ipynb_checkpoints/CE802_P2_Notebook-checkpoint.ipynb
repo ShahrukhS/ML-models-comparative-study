{
 "cells": [
  {
   "cell_type": "markdown",
   "id": "6564f908-4eca-4a3d-a8fb-3f91fcc65be8",
   "metadata": {
    "id": "6564f908-4eca-4a3d-a8fb-3f91fcc65be8"
   },
   "source": [
    "## Part 2: Tosco & Spency Data"
   ]
  },
  {
   "cell_type": "code",
   "execution_count": 18,
   "id": "83573829-0afc-497b-b491-37d3c73c611b",
   "metadata": {
    "id": "83573829-0afc-497b-b491-37d3c73c611b"
   },
   "outputs": [],
   "source": [
    "import pandas as pd\n",
    "import numpy as np\n",
    "\n",
    "from sklearn.impute import SimpleImputer\n",
    "from sklearn.preprocessing import StandardScaler, LabelEncoder\n",
    "from sklearn.neighbors import LocalOutlierFactor\n",
    "\n",
    "from sklearn.dummy import DummyClassifier\n",
    "from sklearn.tree import DecisionTreeClassifier\n",
    "from sklearn.ensemble import RandomForestClassifier, GradientBoostingClassifier\n",
    "from sklearn.svm import SVC\n",
    "from sklearn.model_selection import train_test_split, GridSearchCV, cross_val_score\n",
    "from sklearn.pipeline import Pipeline\n",
    "\n",
    "from sklearn import metrics\n",
    "import matplotlib.pyplot as plt"
   ]
  },
  {
   "cell_type": "code",
   "execution_count": 19,
   "id": "54385e62-6e7a-4c36-9f88-50373660d6ca",
   "metadata": {
    "id": "54385e62-6e7a-4c36-9f88-50373660d6ca"
   },
   "outputs": [],
   "source": [
    "data = pd.read_csv('CE802_P2_Data.csv')"
   ]
  },
  {
   "cell_type": "code",
   "execution_count": 20,
   "id": "9c564996-5f87-49ad-9229-b9d5f4e20848",
   "metadata": {
    "colab": {
     "base_uri": "https://localhost:8080/",
     "height": 204
    },
    "id": "9c564996-5f87-49ad-9229-b9d5f4e20848",
    "outputId": "b69f7541-b599-4ab9-f0bf-16a9e4c0ceb9"
   },
   "outputs": [
    {
     "data": {
      "text/html": [
       "<div>\n",
       "<style scoped>\n",
       "    .dataframe tbody tr th:only-of-type {\n",
       "        vertical-align: middle;\n",
       "    }\n",
       "\n",
       "    .dataframe tbody tr th {\n",
       "        vertical-align: top;\n",
       "    }\n",
       "\n",
       "    .dataframe thead th {\n",
       "        text-align: right;\n",
       "    }\n",
       "</style>\n",
       "<table border=\"1\" class=\"dataframe\">\n",
       "  <thead>\n",
       "    <tr style=\"text-align: right;\">\n",
       "      <th></th>\n",
       "      <th>F1</th>\n",
       "      <th>F2</th>\n",
       "      <th>F3</th>\n",
       "      <th>F4</th>\n",
       "      <th>F5</th>\n",
       "      <th>F6</th>\n",
       "      <th>F7</th>\n",
       "      <th>F8</th>\n",
       "      <th>F9</th>\n",
       "      <th>F10</th>\n",
       "      <th>F11</th>\n",
       "      <th>F12</th>\n",
       "      <th>F13</th>\n",
       "      <th>F14</th>\n",
       "      <th>F15</th>\n",
       "      <th>Class</th>\n",
       "    </tr>\n",
       "  </thead>\n",
       "  <tbody>\n",
       "    <tr>\n",
       "      <th>0</th>\n",
       "      <td>-1</td>\n",
       "      <td>45</td>\n",
       "      <td>-7.97</td>\n",
       "      <td>0.54</td>\n",
       "      <td>3</td>\n",
       "      <td>0.50</td>\n",
       "      <td>-113.34</td>\n",
       "      <td>20.30</td>\n",
       "      <td>9.99</td>\n",
       "      <td>20.50</td>\n",
       "      <td>-5.52</td>\n",
       "      <td>3.60</td>\n",
       "      <td>-466.22</td>\n",
       "      <td>1.88</td>\n",
       "      <td>-7.49</td>\n",
       "      <td>True</td>\n",
       "    </tr>\n",
       "    <tr>\n",
       "      <th>1</th>\n",
       "      <td>1</td>\n",
       "      <td>27</td>\n",
       "      <td>-7.02</td>\n",
       "      <td>1.08</td>\n",
       "      <td>3</td>\n",
       "      <td>0.85</td>\n",
       "      <td>-47.34</td>\n",
       "      <td>20.00</td>\n",
       "      <td>2.88</td>\n",
       "      <td>19.40</td>\n",
       "      <td>-6.49</td>\n",
       "      <td>1.22</td>\n",
       "      <td>-470.22</td>\n",
       "      <td>0.57</td>\n",
       "      <td>NaN</td>\n",
       "      <td>True</td>\n",
       "    </tr>\n",
       "    <tr>\n",
       "      <th>2</th>\n",
       "      <td>-2</td>\n",
       "      <td>0</td>\n",
       "      <td>-8.82</td>\n",
       "      <td>0.56</td>\n",
       "      <td>3</td>\n",
       "      <td>0.45</td>\n",
       "      <td>-152.34</td>\n",
       "      <td>19.62</td>\n",
       "      <td>9.78</td>\n",
       "      <td>20.74</td>\n",
       "      <td>-5.21</td>\n",
       "      <td>2.08</td>\n",
       "      <td>-534.22</td>\n",
       "      <td>5.62</td>\n",
       "      <td>-5.74</td>\n",
       "      <td>False</td>\n",
       "    </tr>\n",
       "    <tr>\n",
       "      <th>3</th>\n",
       "      <td>-14</td>\n",
       "      <td>855</td>\n",
       "      <td>-3.23</td>\n",
       "      <td>12.00</td>\n",
       "      <td>30</td>\n",
       "      <td>7.45</td>\n",
       "      <td>-341.34</td>\n",
       "      <td>34.76</td>\n",
       "      <td>-10.14</td>\n",
       "      <td>14.38</td>\n",
       "      <td>-4.79</td>\n",
       "      <td>-2.52</td>\n",
       "      <td>-846.22</td>\n",
       "      <td>-4.17</td>\n",
       "      <td>NaN</td>\n",
       "      <td>True</td>\n",
       "    </tr>\n",
       "    <tr>\n",
       "      <th>4</th>\n",
       "      <td>-1</td>\n",
       "      <td>39</td>\n",
       "      <td>-8.12</td>\n",
       "      <td>2.88</td>\n",
       "      <td>3</td>\n",
       "      <td>0.76</td>\n",
       "      <td>-53.34</td>\n",
       "      <td>19.08</td>\n",
       "      <td>6.48</td>\n",
       "      <td>22.58</td>\n",
       "      <td>-7.52</td>\n",
       "      <td>1.24</td>\n",
       "      <td>-512.22</td>\n",
       "      <td>2.17</td>\n",
       "      <td>NaN</td>\n",
       "      <td>False</td>\n",
       "    </tr>\n",
       "  </tbody>\n",
       "</table>\n",
       "</div>"
      ],
      "text/plain": [
       "   F1   F2    F3     F4  F5    F6      F7     F8     F9    F10   F11   F12  \\\n",
       "0  -1   45 -7.97   0.54   3  0.50 -113.34  20.30   9.99  20.50 -5.52  3.60   \n",
       "1   1   27 -7.02   1.08   3  0.85  -47.34  20.00   2.88  19.40 -6.49  1.22   \n",
       "2  -2    0 -8.82   0.56   3  0.45 -152.34  19.62   9.78  20.74 -5.21  2.08   \n",
       "3 -14  855 -3.23  12.00  30  7.45 -341.34  34.76 -10.14  14.38 -4.79 -2.52   \n",
       "4  -1   39 -8.12   2.88   3  0.76  -53.34  19.08   6.48  22.58 -7.52  1.24   \n",
       "\n",
       "      F13   F14   F15  Class  \n",
       "0 -466.22  1.88 -7.49   True  \n",
       "1 -470.22  0.57   NaN   True  \n",
       "2 -534.22  5.62 -5.74  False  \n",
       "3 -846.22 -4.17   NaN   True  \n",
       "4 -512.22  2.17   NaN  False  "
      ]
     },
     "execution_count": 20,
     "metadata": {},
     "output_type": "execute_result"
    }
   ],
   "source": [
    "data.head()"
   ]
  },
  {
   "cell_type": "markdown",
   "id": "5d62ad8a-df00-446c-84e8-9e47b8a1a508",
   "metadata": {
    "id": "5d62ad8a-df00-446c-84e8-9e47b8a1a508"
   },
   "source": [
    "### Data Preprocessing"
   ]
  },
  {
   "cell_type": "markdown",
   "id": "79f099d8-6b73-49ea-b88f-33a71bf3a8f8",
   "metadata": {
    "id": "79f099d8-6b73-49ea-b88f-33a71bf3a8f8"
   },
   "source": [
    "#### Inspecting if all features are numeric or not"
   ]
  },
  {
   "cell_type": "code",
   "execution_count": 21,
   "id": "528a36d0-a360-44ac-bf1e-79bef3b58e3d",
   "metadata": {
    "colab": {
     "base_uri": "https://localhost:8080/"
    },
    "id": "528a36d0-a360-44ac-bf1e-79bef3b58e3d",
    "outputId": "d262f3a6-5c35-4124-fc48-872dcef7553c"
   },
   "outputs": [
    {
     "name": "stdout",
     "output_type": "stream",
     "text": [
      "<class 'pandas.core.frame.DataFrame'>\n",
      "RangeIndex: 1500 entries, 0 to 1499\n",
      "Data columns (total 16 columns):\n",
      " #   Column  Non-Null Count  Dtype  \n",
      "---  ------  --------------  -----  \n",
      " 0   F1      1500 non-null   int64  \n",
      " 1   F2      1500 non-null   int64  \n",
      " 2   F3      1500 non-null   float64\n",
      " 3   F4      1500 non-null   float64\n",
      " 4   F5      1500 non-null   int64  \n",
      " 5   F6      1500 non-null   float64\n",
      " 6   F7      1500 non-null   float64\n",
      " 7   F8      1500 non-null   float64\n",
      " 8   F9      1500 non-null   float64\n",
      " 9   F10     1500 non-null   float64\n",
      " 10  F11     1500 non-null   float64\n",
      " 11  F12     1500 non-null   float64\n",
      " 12  F13     1500 non-null   float64\n",
      " 13  F14     1500 non-null   float64\n",
      " 14  F15     750 non-null    float64\n",
      " 15  Class   1500 non-null   bool   \n",
      "dtypes: bool(1), float64(12), int64(3)\n",
      "memory usage: 177.4 KB\n"
     ]
    }
   ],
   "source": [
    "data.info()"
   ]
  },
  {
   "cell_type": "markdown",
   "id": "0634817d-5a76-4de7-a668-99513b901e90",
   "metadata": {
    "id": "0634817d-5a76-4de7-a668-99513b901e90"
   },
   "source": [
    "#### Checking for Nulls/Empty spaces in the feature space"
   ]
  },
  {
   "cell_type": "code",
   "execution_count": 22,
   "id": "d439faaa-31d0-4011-a493-3ed1adba1a42",
   "metadata": {
    "colab": {
     "base_uri": "https://localhost:8080/"
    },
    "id": "d439faaa-31d0-4011-a493-3ed1adba1a42",
    "outputId": "eb3c1733-890b-4c4b-9227-04abc5ba8d5e"
   },
   "outputs": [
    {
     "data": {
      "text/plain": [
       "F1        0.0\n",
       "F2        0.0\n",
       "F3        0.0\n",
       "F4        0.0\n",
       "F5        0.0\n",
       "F6        0.0\n",
       "F7        0.0\n",
       "F8        0.0\n",
       "F9        0.0\n",
       "F10       0.0\n",
       "F11       0.0\n",
       "F12       0.0\n",
       "F13       0.0\n",
       "F14       0.0\n",
       "F15      50.0\n",
       "Class     0.0\n",
       "dtype: float64"
      ]
     },
     "execution_count": 22,
     "metadata": {},
     "output_type": "execute_result"
    }
   ],
   "source": [
    "data.isnull().mean()*100"
   ]
  },
  {
   "cell_type": "code",
   "execution_count": 23,
   "id": "96ff9f9c-638e-45ea-b4be-e288083579f0",
   "metadata": {
    "colab": {
     "base_uri": "https://localhost:8080/"
    },
    "id": "96ff9f9c-638e-45ea-b4be-e288083579f0",
    "outputId": "98b6e273-a92a-486c-9947-a4a162637100"
   },
   "outputs": [
    {
     "name": "stdout",
     "output_type": "stream",
     "text": [
      "<class 'pandas.core.frame.DataFrame'>\n",
      "RangeIndex: 1500 entries, 0 to 1499\n",
      "Data columns (total 16 columns):\n",
      " #   Column  Non-Null Count  Dtype  \n",
      "---  ------  --------------  -----  \n",
      " 0   F1      1500 non-null   int64  \n",
      " 1   F2      1500 non-null   int64  \n",
      " 2   F3      1500 non-null   float64\n",
      " 3   F4      1500 non-null   float64\n",
      " 4   F5      1500 non-null   int64  \n",
      " 5   F6      1500 non-null   float64\n",
      " 6   F7      1500 non-null   float64\n",
      " 7   F8      1500 non-null   float64\n",
      " 8   F9      1500 non-null   float64\n",
      " 9   F10     1500 non-null   float64\n",
      " 10  F11     1500 non-null   float64\n",
      " 11  F12     1500 non-null   float64\n",
      " 12  F13     1500 non-null   float64\n",
      " 13  F14     1500 non-null   float64\n",
      " 14  F15     750 non-null    float64\n",
      " 15  Class   1500 non-null   int64  \n",
      "dtypes: float64(12), int64(4)\n",
      "memory usage: 187.6 KB\n"
     ]
    }
   ],
   "source": [
    "# Boolean variables cast implicitly to integers in python, however still it is better to\n",
    "# convert the boolean Class to numeric for better performance. \n",
    "\n",
    "le = LabelEncoder()\n",
    "data['Class'] = le.fit_transform(data['Class'])\n",
    "data.info()"
   ]
  },
  {
   "cell_type": "code",
   "execution_count": 26,
   "id": "158a4f2b-1dc3-4f7c-9d9b-7e79e1aadcbb",
   "metadata": {},
   "outputs": [
    {
     "data": {
      "image/png": "[encoded data removed]",
      "text/plain": [
       "<Figure size 432x288 with 1 Axes>"
      ]
     },
     "metadata": {
      "needs_background": "light"
     },
     "output_type": "display_data"
    }
   ],
   "source": [
    "value_counts = data.Class.value_counts()\n",
    "\n",
    "plt.title('Class Distribution')\n",
    "plt.bar(value_counts.index, value_counts.values)\n",
    "plt.xticks(value_counts.index)\n",
    "plt.xlabel('Classes')\n",
    "plt.ylabel('Counts')\n",
    "plt.show()"
   ]
  },
  {
   "cell_type": "markdown",
   "id": "9703e145-9808-492a-bde1-36db73bbdb9a",
   "metadata": {
    "id": "9703e145-9808-492a-bde1-36db73bbdb9a"
   },
   "source": [
    "#### Classification with Baseline Approach\n",
    "Removing the feature with null values"
   ]
  },
  {
   "cell_type": "code",
   "execution_count": 85,
   "id": "91683bc5-559d-49ef-9979-709ecb310215",
   "metadata": {
    "id": "91683bc5-559d-49ef-9979-709ecb310215"
   },
   "outputs": [],
   "source": [
    "X = data.copy().drop(['F15', 'Class'], axis=1)\n",
    "y = data.Class.values.ravel()"
   ]
  },
  {
   "cell_type": "code",
   "execution_count": 86,
   "id": "c9b25237-f10d-4501-864b-df3968e959d8",
   "metadata": {
    "colab": {
     "base_uri": "https://localhost:8080/"
    },
    "id": "c9b25237-f10d-4501-864b-df3968e959d8",
    "outputId": "2d8da158-a35f-4a6b-9f19-5952904b8434"
   },
   "outputs": [
    {
     "name": "stdout",
     "output_type": "stream",
     "text": [
      "(1500, 14)\n",
      "(1500,)\n"
     ]
    }
   ],
   "source": [
    "print(X.shape)\n",
    "print(y.shape)"
   ]
  },
  {
   "cell_type": "code",
   "execution_count": 87,
   "id": "56aede21-7ea3-4997-b1bd-ba4ae505a1af",
   "metadata": {
    "id": "56aede21-7ea3-4997-b1bd-ba4ae505a1af"
   },
   "outputs": [],
   "source": [
    "X_train, X_val, y_train, y_val = train_test_split(X, y, stratify=y, random_state=0)"
   ]
  },
  {
   "cell_type": "code",
   "execution_count": 88,
   "id": "WJ_5GE-x8BWH",
   "metadata": {
    "id": "WJ_5GE-x8BWH"
   },
   "outputs": [],
   "source": [
    "results = []"
   ]
  },
  {
   "cell_type": "code",
   "execution_count": 89,
   "id": "b49f89c0-2be2-488e-9ebd-cb72b5083db2",
   "metadata": {
    "colab": {
     "base_uri": "https://localhost:8080/"
    },
    "id": "b49f89c0-2be2-488e-9ebd-cb72b5083db2",
    "outputId": "80317afb-fdf5-4c4c-b0c3-b45e8b906c81"
   },
   "outputs": [
    {
     "name": "stdout",
     "output_type": "stream",
     "text": [
      "Dummy Classifier Accuracy: 0.5386666666666666\n"
     ]
    }
   ],
   "source": [
    "dummy = DummyClassifier(strategy='most_frequent')\n",
    "dummy = dummy.fit(X_train, y_train)\n",
    "y_pred = dummy.predict(X_val)\n",
    "acc_score = metrics.accuracy_score(y_val, y_pred)\n",
    "print(\"Dummy Classifier Accuracy:\", acc_score)\n",
    "results.append(acc_score)"
   ]
  },
  {
   "cell_type": "code",
   "execution_count": 90,
   "id": "41668ea4-d898-47fc-a1dd-74e156b8efc5",
   "metadata": {
    "colab": {
     "base_uri": "https://localhost:8080/"
    },
    "id": "41668ea4-d898-47fc-a1dd-74e156b8efc5",
    "outputId": "9e6b1d72-fb12-47c4-d794-03bbcce6d1bd",
    "tags": []
   },
   "outputs": [
    {
     "name": "stdout",
     "output_type": "stream",
     "text": [
      "Decision Tree Accuracy: 0.736\n"
     ]
    }
   ],
   "source": [
    "#fitting model with default parameters\n",
    "\n",
    "DT = DecisionTreeClassifier(random_state=0)\n",
    "DT = DT.fit(X_train, y_train)\n",
    "val_res = DT.predict(X_val)\n",
    "acc_score = metrics.accuracy_score(y_val, val_res)\n",
    "print(\"Decision Tree Accuracy:\", acc_score)\n",
    "results.append(acc_score)"
   ]
  },
  {
   "cell_type": "code",
   "execution_count": 91,
   "id": "8adf0e31-da1c-4223-b583-192ccc65ef06",
   "metadata": {
    "colab": {
     "base_uri": "https://localhost:8080/"
    },
    "id": "8adf0e31-da1c-4223-b583-192ccc65ef06",
    "outputId": "75de009e-888c-4803-f87a-9d9d274d2543"
   },
   "outputs": [
    {
     "name": "stdout",
     "output_type": "stream",
     "text": [
      "Decision Tree Accuracy with Cross-validation: 0.760000 (0.014453)\n"
     ]
    }
   ],
   "source": [
    "params = {'criterion': ['entropy', 'gini'],\n",
    "          'max_depth': [3, 10, 15]}\n",
    "grid = GridSearchCV(DecisionTreeClassifier(random_state=0), param_grid=params, n_jobs=-1)\n",
    "score = cross_val_score(grid, X, data.Class)\n",
    "print(\"Decision Tree Accuracy with Cross-validation: %f (%f)\" % (score.mean(), score.std()))\n",
    "results.append(score.mean())"
   ]
  },
  {
   "cell_type": "code",
   "execution_count": 92,
   "id": "XE6a2_X-73VY",
   "metadata": {
    "colab": {
     "base_uri": "https://localhost:8080/"
    },
    "id": "XE6a2_X-73VY",
    "outputId": "d75106d1-3ce8-4788-c803-612dbadc28c0"
   },
   "outputs": [
    {
     "data": {
      "text/plain": [
       "[0.5386666666666666, 0.736, 0.76]"
      ]
     },
     "execution_count": 92,
     "metadata": {
      "tags": []
     },
     "output_type": "execute_result"
    }
   ],
   "source": [
    "results"
   ]
  },
  {
   "cell_type": "code",
   "execution_count": 93,
   "id": "WxNXH1r87W_j",
   "metadata": {
    "colab": {
     "base_uri": "https://localhost:8080/",
     "height": 295
    },
    "id": "WxNXH1r87W_j",
    "outputId": "0db82539-dc44-48ad-a292-d333765b9cb6"
   },
   "outputs": [
    {
     "data": {
      "image/png": "[encoded data removed]",
      "text/plain": [
       "<Figure size 432x288 with 1 Axes>"
      ]
     },
     "metadata": {
      "needs_background": "light",
      "tags": []
     },
     "output_type": "display_data"
    }
   ],
   "source": [
    "plt.title('Baselines Scores')\n",
    "x_axis = ['Dummy', 'DT', 'DT with CV']\n",
    "plt.bar(x_axis, results)\n",
    "plt.xticks(x_axis)\n",
    "plt.xlabel('Classifiers')\n",
    "plt.ylabel('Scores')\n",
    "plt.show()"
   ]
  },
  {
   "cell_type": "markdown",
   "id": "672dac9b-8838-415d-8287-42c918e4b1db",
   "metadata": {
    "id": "672dac9b-8838-415d-8287-42c918e4b1db"
   },
   "source": [
    "### Classification with different ML Techniques"
   ]
  },
  {
   "cell_type": "markdown",
   "id": "f3cd6487-da06-48a2-b3b3-42716043aa56",
   "metadata": {
    "id": "f3cd6487-da06-48a2-b3b3-42716043aa56"
   },
   "source": [
    "#### Identifying and Removing Outliers"
   ]
  },
  {
   "cell_type": "code",
   "execution_count": 94,
   "id": "b1651c4b-b253-46a3-a40a-7ed5ce6866f4",
   "metadata": {
    "colab": {
     "base_uri": "https://localhost:8080/"
    },
    "id": "b1651c4b-b253-46a3-a40a-7ed5ce6866f4",
    "outputId": "eb884aff-d341-4709-bd07-80723634eebd"
   },
   "outputs": [
    {
     "name": "stdout",
     "output_type": "stream",
     "text": [
      "F1        13.0000\n",
      "F2       540.0000\n",
      "F3         4.3925\n",
      "F4        13.9200\n",
      "F5        27.0000\n",
      "F6         6.4500\n",
      "F7       102.0000\n",
      "F8        11.4600\n",
      "F9        13.0200\n",
      "F10        8.7000\n",
      "F11        1.2300\n",
      "F12        8.4250\n",
      "F13      232.0000\n",
      "F14        4.3600\n",
      "F15        1.4675\n",
      "Class      1.0000\n",
      "dtype: float64\n"
     ]
    }
   ],
   "source": [
    "Q1 = data.quantile(0.25)\n",
    "Q3 = data.quantile(0.75)\n",
    "IQR = Q3 - Q1\n",
    "print(IQR)\n",
    "#plot below values"
   ]
  },
  {
   "cell_type": "code",
   "execution_count": 95,
   "id": "ZFvYoBr8IAF7",
   "metadata": {
    "colab": {
     "base_uri": "https://localhost:8080/",
     "height": 298
    },
    "id": "ZFvYoBr8IAF7",
    "outputId": "c6e8ba82-2ef9-4f31-9bd2-9c5d903e3137"
   },
   "outputs": [
    {
     "data": {
      "text/plain": [
       "<function matplotlib.pyplot.show>"
      ]
     },
     "execution_count": 95,
     "metadata": {
      "tags": []
     },
     "output_type": "execute_result"
    },
    {
     "data": {
      "image/png": "[encoded data removed]",
      "text/plain": [
       "<Figure size 432x288 with 1 Axes>"
      ]
     },
     "metadata": {
      "needs_background": "light",
      "tags": []
     },
     "output_type": "display_data"
    }
   ],
   "source": [
    "plt.title('Measure of Dispersion')\n",
    "plt.barh(IQR.index, IQR.values)\n",
    "plt.show"
   ]
  },
  {
   "cell_type": "code",
   "execution_count": 96,
   "id": "0704b5ed-00a2-4089-8254-977087d41d02",
   "metadata": {
    "colab": {
     "base_uri": "https://localhost:8080/"
    },
    "id": "0704b5ed-00a2-4089-8254-977087d41d02",
    "outputId": "2e89d412-261a-4e47-efbf-986e735754ee"
   },
   "outputs": [
    {
     "name": "stdout",
     "output_type": "stream",
     "text": [
      "(1259, 16)\n"
     ]
    }
   ],
   "source": [
    "data_out = data[~((data < (Q1 - 1.5 * IQR)) |(data > (Q3 + 1.5 * IQR))).any(axis=1)]\n",
    "print(data_out.shape)\n",
    "data_bkup = data.copy()\n",
    "data = data_out.copy()"
   ]
  },
  {
   "cell_type": "code",
   "execution_count": 97,
   "id": "3ef26945-e62b-4cfb-b458-2622971e060b",
   "metadata": {
    "id": "3ef26945-e62b-4cfb-b458-2622971e060b"
   },
   "outputs": [],
   "source": [
    "X = data.iloc[:,data.columns != 'Class']\n",
    "y = data.Class.values.ravel()"
   ]
  },
  {
   "cell_type": "code",
   "execution_count": 98,
   "id": "78f7e828-0026-4539-9dc2-df1e2c443e4c",
   "metadata": {
    "colab": {
     "base_uri": "https://localhost:8080/"
    },
    "id": "78f7e828-0026-4539-9dc2-df1e2c443e4c",
    "outputId": "70e97ca2-58a8-4d79-c087-3818a8c80df2"
   },
   "outputs": [
    {
     "name": "stdout",
     "output_type": "stream",
     "text": [
      "(1259, 15)\n",
      "(1259,)\n"
     ]
    }
   ],
   "source": [
    "print(X.shape)\n",
    "print(y.shape)"
   ]
  },
  {
   "cell_type": "code",
   "execution_count": 99,
   "id": "30aab209-ce1b-4a13-89a7-8d8ebb182afa",
   "metadata": {
    "colab": {
     "base_uri": "https://localhost:8080/"
    },
    "id": "30aab209-ce1b-4a13-89a7-8d8ebb182afa",
    "outputId": "ca610ca2-f1c7-43ba-955a-c2eeb5a26651"
   },
   "outputs": [
    {
     "data": {
      "text/plain": [
       "0    649\n",
       "1    610\n",
       "Name: Class, dtype: int64"
      ]
     },
     "execution_count": 99,
     "metadata": {
      "tags": []
     },
     "output_type": "execute_result"
    }
   ],
   "source": [
    "data.Class.value_counts()"
   ]
  },
  {
   "cell_type": "markdown",
   "id": "3209601c-2309-4f4c-b1d5-6d9d7a0c3d1a",
   "metadata": {
    "id": "3209601c-2309-4f4c-b1d5-6d9d7a0c3d1a"
   },
   "source": [
    "#### Evaluating Different ML Techniques and Models "
   ]
  },
  {
   "cell_type": "code",
   "execution_count": 101,
   "id": "00ef1849-09e6-45f5-98ff-9bf0fe4e8cdc",
   "metadata": {
    "id": "00ef1849-09e6-45f5-98ff-9bf0fe4e8cdc",
    "tags": []
   },
   "outputs": [],
   "source": [
    "models = []\n",
    "results = []\n",
    "names = []\n",
    "fitted_models = []\n",
    "\n",
    "models.append(('DT', DecisionTreeClassifier(),\n",
    "               {'criterion': ['entropy', 'gini'], 'max_depth': [None, 10, 15]}))\n",
    "\n",
    "models.append(('SVC', SVC(gamma=0.01, C=10),\n",
    "               {'gamma': np.logspace(-7, -0, 5), 'C': np.logspace(-1, 3, 5)}))\n",
    "\n",
    "models.append(('RFC', RandomForestClassifier(),\n",
    "               {'n_estimators': np.linspace(100, 300, 5, dtype=int),'max_depth': [None, 10, 15]}))\n",
    "\n",
    "models.append(('GBC', GradientBoostingClassifier(),\n",
    "               {'n_estimators': [100, 200, 300],'learning_rate': [0.001, 0.01, 0.1]}))"
   ]
  },
  {
   "cell_type": "code",
   "execution_count": 102,
   "id": "3349f011-4938-43e4-afbf-4f070ae35785",
   "metadata": {
    "colab": {
     "base_uri": "https://localhost:8080/",
     "height": 362
    },
    "id": "3349f011-4938-43e4-afbf-4f070ae35785",
    "outputId": "7350cfd6-5f06-458c-d8f1-36c8cbe4f644"
   },
   "outputs": [
    {
     "name": "stdout",
     "output_type": "stream",
     "text": [
      "DT: 0.783931 (0.027550)\n",
      "SVC: 0.888010 (0.009809)\n",
      "RFC: 0.864166 (0.009385)\n",
      "GBC: 0.879273 (0.021064)\n"
     ]
    },
    {
     "data": {
      "image/png": "[encoded data removed]",
      "text/plain": [
       "<Figure size 432x288 with 1 Axes>"
      ]
     },
     "metadata": {
      "needs_background": "light",
      "tags": []
     },
     "output_type": "display_data"
    }
   ],
   "source": [
    "for name, model, classifier_params in models:\n",
    "    #creating a pipeline for transformation and data fitting.\n",
    "    pipe = Pipeline(steps=[('imputer', SimpleImputer()),\n",
    "                       ('scaler', StandardScaler()),\n",
    "                       ('classifier', model)])\n",
    "    \n",
    "    #preparing parameters for parameter tuning in GridSearchCV\n",
    "    pipe_params = {'scaler__with_std' : [True, False]}\n",
    "    for param in classifier_params.items():\n",
    "        pipe_params[f'classifier__{param[0]}'] = param[1]\n",
    "    \n",
    "    grid = GridSearchCV(pipe, param_grid=pipe_params, n_jobs=-1)\n",
    "    grid.fit(X, y)\n",
    "    \n",
    "    #Recording results and evaluating a model with best parameters found\n",
    "    scores = cross_val_score(grid.best_estimator_, X, y, scoring='accuracy')\n",
    "    results.append(scores)\n",
    "    names.append(name)\n",
    "    fitted_models.append(grid.best_estimator_)\n",
    "    msg = \"%s: %f (%f)\" % (name, scores.mean(), scores.std())\n",
    "    print(msg)\n",
    "    \n",
    "# boxplot algorithm comparison\n",
    "fig = plt.figure()\n",
    "fig.suptitle('Algorithm Comparison')\n",
    "ax = fig.add_subplot(111)\n",
    "plt.boxplot(results)\n",
    "ax.set_xticklabels(names)\n",
    "plt.show()"
   ]
  },
  {
   "cell_type": "markdown",
   "id": "dfeaa6f4-d8a6-4dd5-8c68-889bdfbe54aa",
   "metadata": {
    "id": "dfeaa6f4-d8a6-4dd5-8c68-889bdfbe54aa"
   },
   "source": [
    "#### Part b: Deploying the Best Performing Pipeline on Testset"
   ]
  },
  {
   "cell_type": "code",
   "execution_count": 106,
   "id": "dd5f7fb2-4562-4b4d-9157-84fb828b5626",
   "metadata": {
    "id": "dd5f7fb2-4562-4b4d-9157-84fb828b5626"
   },
   "outputs": [],
   "source": [
    "testset = pd.read_csv('CE802_P2_Test.csv')"
   ]
  },
  {
   "cell_type": "code",
   "execution_count": 107,
   "id": "0cebfb4b-3b21-4b88-a524-f87206e14b75",
   "metadata": {
    "colab": {
     "base_uri": "https://localhost:8080/",
     "height": 204
    },
    "id": "0cebfb4b-3b21-4b88-a524-f87206e14b75",
    "outputId": "7424df29-f25a-4c9f-e416-772522c00f73"
   },
   "outputs": [
    {
     "data": {
      "text/html": [
       "<div>\n",
       "<style scoped>\n",
       "    .dataframe tbody tr th:only-of-type {\n",
       "        vertical-align: middle;\n",
       "    }\n",
       "\n",
       "    .dataframe tbody tr th {\n",
       "        vertical-align: top;\n",
       "    }\n",
       "\n",
       "    .dataframe thead th {\n",
       "        text-align: right;\n",
       "    }\n",
       "</style>\n",
       "<table border=\"1\" class=\"dataframe\">\n",
       "  <thead>\n",
       "    <tr style=\"text-align: right;\">\n",
       "      <th></th>\n",
       "      <th>F1</th>\n",
       "      <th>F2</th>\n",
       "      <th>F3</th>\n",
       "      <th>F4</th>\n",
       "      <th>F5</th>\n",
       "      <th>F6</th>\n",
       "      <th>F7</th>\n",
       "      <th>F8</th>\n",
       "      <th>F9</th>\n",
       "      <th>F10</th>\n",
       "      <th>F11</th>\n",
       "      <th>F12</th>\n",
       "      <th>F13</th>\n",
       "      <th>F14</th>\n",
       "      <th>F15</th>\n",
       "      <th>Class</th>\n",
       "    </tr>\n",
       "  </thead>\n",
       "  <tbody>\n",
       "    <tr>\n",
       "      <th>0</th>\n",
       "      <td>-4</td>\n",
       "      <td>765</td>\n",
       "      <td>-3.72</td>\n",
       "      <td>26.40</td>\n",
       "      <td>30</td>\n",
       "      <td>5.15</td>\n",
       "      <td>18.66</td>\n",
       "      <td>31.06</td>\n",
       "      <td>-4.80</td>\n",
       "      <td>15.18</td>\n",
       "      <td>-5.05</td>\n",
       "      <td>-6.56</td>\n",
       "      <td>-766.22</td>\n",
       "      <td>-1.98</td>\n",
       "      <td>-4.67</td>\n",
       "      <td>NaN</td>\n",
       "    </tr>\n",
       "    <tr>\n",
       "      <th>1</th>\n",
       "      <td>-3</td>\n",
       "      <td>3</td>\n",
       "      <td>-7.10</td>\n",
       "      <td>1.20</td>\n",
       "      <td>3</td>\n",
       "      <td>0.36</td>\n",
       "      <td>-119.34</td>\n",
       "      <td>20.00</td>\n",
       "      <td>6.39</td>\n",
       "      <td>19.92</td>\n",
       "      <td>-5.29</td>\n",
       "      <td>0.32</td>\n",
       "      <td>-524.22</td>\n",
       "      <td>2.12</td>\n",
       "      <td>NaN</td>\n",
       "      <td>NaN</td>\n",
       "    </tr>\n",
       "    <tr>\n",
       "      <th>2</th>\n",
       "      <td>-4</td>\n",
       "      <td>735</td>\n",
       "      <td>-1.70</td>\n",
       "      <td>14.50</td>\n",
       "      <td>30</td>\n",
       "      <td>6.50</td>\n",
       "      <td>183.66</td>\n",
       "      <td>37.36</td>\n",
       "      <td>-11.88</td>\n",
       "      <td>11.22</td>\n",
       "      <td>-7.79</td>\n",
       "      <td>-9.64</td>\n",
       "      <td>-776.22</td>\n",
       "      <td>-3.88</td>\n",
       "      <td>-6.57</td>\n",
       "      <td>NaN</td>\n",
       "    </tr>\n",
       "    <tr>\n",
       "      <th>3</th>\n",
       "      <td>-14</td>\n",
       "      <td>90</td>\n",
       "      <td>-2.55</td>\n",
       "      <td>13.30</td>\n",
       "      <td>30</td>\n",
       "      <td>7.95</td>\n",
       "      <td>-236.34</td>\n",
       "      <td>32.06</td>\n",
       "      <td>-3.09</td>\n",
       "      <td>15.86</td>\n",
       "      <td>-4.33</td>\n",
       "      <td>-8.76</td>\n",
       "      <td>-916.22</td>\n",
       "      <td>-3.41</td>\n",
       "      <td>NaN</td>\n",
       "      <td>NaN</td>\n",
       "    </tr>\n",
       "    <tr>\n",
       "      <th>4</th>\n",
       "      <td>-1</td>\n",
       "      <td>174</td>\n",
       "      <td>-7.63</td>\n",
       "      <td>3.74</td>\n",
       "      <td>3</td>\n",
       "      <td>0.94</td>\n",
       "      <td>-143.34</td>\n",
       "      <td>19.58</td>\n",
       "      <td>11.67</td>\n",
       "      <td>19.62</td>\n",
       "      <td>-7.63</td>\n",
       "      <td>1.12</td>\n",
       "      <td>-506.22</td>\n",
       "      <td>3.08</td>\n",
       "      <td>NaN</td>\n",
       "      <td>NaN</td>\n",
       "    </tr>\n",
       "  </tbody>\n",
       "</table>\n",
       "</div>"
      ],
      "text/plain": [
       "   F1   F2    F3     F4  F5    F6  ...   F11   F12     F13   F14   F15  Class\n",
       "0  -4  765 -3.72  26.40  30  5.15  ... -5.05 -6.56 -766.22 -1.98 -4.67    NaN\n",
       "1  -3    3 -7.10   1.20   3  0.36  ... -5.29  0.32 -524.22  2.12   NaN    NaN\n",
       "2  -4  735 -1.70  14.50  30  6.50  ... -7.79 -9.64 -776.22 -3.88 -6.57    NaN\n",
       "3 -14   90 -2.55  13.30  30  7.95  ... -4.33 -8.76 -916.22 -3.41   NaN    NaN\n",
       "4  -1  174 -7.63   3.74   3  0.94  ... -7.63  1.12 -506.22  3.08   NaN    NaN\n",
       "\n",
       "[5 rows x 16 columns]"
      ]
     },
     "execution_count": 107,
     "metadata": {
      "tags": []
     },
     "output_type": "execute_result"
    }
   ],
   "source": [
    "testset.head()"
   ]
  },
  {
   "cell_type": "code",
   "execution_count": 108,
   "id": "bcd32fb3-eb29-4855-9ff4-1b0169c9c446",
   "metadata": {
    "colab": {
     "base_uri": "https://localhost:8080/"
    },
    "id": "bcd32fb3-eb29-4855-9ff4-1b0169c9c446",
    "outputId": "ab5b9c9d-5cfe-47ad-aee5-dbfd368fe56f"
   },
   "outputs": [
    {
     "data": {
      "text/plain": [
       "(1500, 16)"
      ]
     },
     "execution_count": 108,
     "metadata": {
      "tags": []
     },
     "output_type": "execute_result"
    }
   ],
   "source": [
    "testset.shape"
   ]
  },
  {
   "cell_type": "code",
   "execution_count": 109,
   "id": "22161777-1277-41fc-a77f-34778c1fd1fa",
   "metadata": {
    "colab": {
     "base_uri": "https://localhost:8080/"
    },
    "id": "22161777-1277-41fc-a77f-34778c1fd1fa",
    "outputId": "b311ca7c-c468-4784-fc1a-739c066cb107"
   },
   "outputs": [
    {
     "data": {
      "text/plain": [
       "1500"
      ]
     },
     "execution_count": 109,
     "metadata": {
      "tags": []
     },
     "output_type": "execute_result"
    }
   ],
   "source": [
    "testset.Class.isnull().sum()"
   ]
  },
  {
   "cell_type": "markdown",
   "id": "DFyELVlfWoQX",
   "metadata": {
    "id": "DFyELVlfWoQX"
   },
   "source": [
    "Implementing the best estimator found in our comparative study"
   ]
  },
  {
   "cell_type": "code",
   "execution_count": 112,
   "id": "407c8f98-a543-402f-8511-3bb60f71b6e8",
   "metadata": {
    "id": "407c8f98-a543-402f-8511-3bb60f71b6e8"
   },
   "outputs": [],
   "source": [
    "X_test = testset.iloc[:,testset.columns != 'Class']\n",
    "testset['Class'] = fitted_models[1].predict(X_test)"
   ]
  },
  {
   "cell_type": "code",
   "execution_count": 115,
   "id": "JD6htMQpcUVx",
   "metadata": {
    "id": "JD6htMQpcUVx"
   },
   "outputs": [],
   "source": [
    "testset.to_csv('CE802_P2_Test.csv')"
   ]
  }
 ],
 "metadata": {
  "colab": {
   "name": "CE802_P2_Notebook.ipynb",
   "provenance": []
  },
  "kernelspec": {
   "display_name": "Python 3",
   "language": "python",
   "name": "python3"
  },
  "language_info": {
   "codemirror_mode": {
    "name": "ipython",
    "version": 3
   },
   "file_extension": ".py",
   "mimetype": "text/x-python",
   "name": "python",
   "nbconvert_exporter": "python",
   "pygments_lexer": "ipython3",
   "version": "3.8.8"
  }
 },
 "nbformat": 4,
 "nbformat_minor": 5
}
